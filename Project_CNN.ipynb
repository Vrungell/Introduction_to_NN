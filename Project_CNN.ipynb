{
 "cells": [
  {
   "cell_type": "code",
   "execution_count": 1,
   "metadata": {},
   "outputs": [],
   "source": [
    "import nltk\n",
    "from nltk.corpus import stopwords\n",
    "from sklearn.linear_model import LogisticRegression\n",
    "from sklearn.svm import SVC\n",
    "import re\n",
    "import numpy as np\n",
    "import pandas as pd\n",
    "import gensim\n",
    "from gensim.matutils import sparse2full\n",
    "from sklearn.feature_extraction.text import TfidfVectorizer\n",
    "import catboost as cb\n",
    "from catboost import utils, CatBoostClassifier, CatBoostRegressor"
   ]
  },
  {
   "cell_type": "code",
   "execution_count": 2,
   "metadata": {},
   "outputs": [],
   "source": [
    "from sklearn import metrics\n",
    "import matplotlib.pyplot as plt\n",
    "from sklearn.decomposition import TruncatedSVD\n",
    "from sklearn.ensemble import RandomForestClassifier"
   ]
  },
  {
   "cell_type": "code",
   "execution_count": 184,
   "metadata": {},
   "outputs": [],
   "source": [
    "from keras.models import Sequential\n",
    "from keras.layers import Activation, Dropout, Flatten, Dense, Conv1D, MaxPooling1D\n",
    "from keras.applications import VGG16\n",
    "from keras.optimizers import Adam\n",
    "import keras"
   ]
  },
  {
   "cell_type": "code",
   "execution_count": 4,
   "metadata": {},
   "outputs": [],
   "source": [
    "from sklearn.metrics import accuracy_score, f1_score\n",
    "from sklearn.metrics import precision_score\n",
    "from sklearn.metrics import recall_score"
   ]
  },
  {
   "cell_type": "code",
   "execution_count": 5,
   "metadata": {},
   "outputs": [],
   "source": [
    "import ssl\n",
    "\n",
    "try:\n",
    "    _create_unverified_https_context = ssl._create_unverified_context\n",
    "except AttributeError:\n",
    "    pass\n",
    "else:\n",
    "    ssl._create_default_https_context = _create_unverified_https_context"
   ]
  },
  {
   "cell_type": "code",
   "execution_count": 6,
   "metadata": {},
   "outputs": [
    {
     "name": "stderr",
     "output_type": "stream",
     "text": [
      "[nltk_data] Downloading package punkt to\n",
      "[nltk_data]     /Users/uliakaliberda/nltk_data...\n",
      "[nltk_data]   Package punkt is already up-to-date!\n"
     ]
    },
    {
     "data": {
      "text/plain": [
       "True"
      ]
     },
     "execution_count": 6,
     "metadata": {},
     "output_type": "execute_result"
    }
   ],
   "source": [
    "nltk.download('punkt')"
   ]
  },
  {
   "cell_type": "code",
   "execution_count": 7,
   "metadata": {},
   "outputs": [],
   "source": [
    "stop_words = stopwords.words('english')"
   ]
  },
  {
   "cell_type": "code",
   "execution_count": 8,
   "metadata": {},
   "outputs": [],
   "source": [
    "rn_data = pd.read_excel('reuters_news.xlsx', sheet_name=0)"
   ]
  },
  {
   "cell_type": "markdown",
   "metadata": {},
   "source": [
    "### Analysing dataset"
   ]
  },
  {
   "cell_type": "code",
   "execution_count": 9,
   "metadata": {},
   "outputs": [],
   "source": [
    "im_data_train = pd.read_csv('IMDB_movies/train.csv')\n",
    "im_data_test = pd.read_csv('IMDB_movies/test.csv')"
   ]
  },
  {
   "cell_type": "code",
   "execution_count": 10,
   "metadata": {},
   "outputs": [
    {
     "data": {
      "text/plain": [
       "\"I'm guessing the writers have never read a book of any kind, much less a Dickens novel, and certainly not David Copperfield, and that they based their screenplay on another poorly written screenplay, possibly an adaptation of Copperfield, though just as likely anything else, from which they randomly discarded about a third of the pages and then shuffled the rest, along with some random pages from a screenplay that someone's eighth grade nephew had written for an English class, and for which he had received a failing grade. <br /><br />If the casting was a bad joke - e.g., Richards as Kramer playing Micawber - which it was, then the direction and acting were the poorly- delivered punch lines. Getting beyond Kramer as Micawber, if possible, Ham was such a complete ogre, hunch-back and all, that I was half expecting at some point to see him being pursued by an angry pitch-fork and torch wielding mob of villagers. Uriah was almost as much of a clown figure as Micawber. Mr. Murdstone evoked about as much terror as that Muppet vampire from Sesame street. The actor playing older David was, I believe, actually a woman. In any case, looking perpetually as if he wished he could find a mirror to see how pretty he looked, and fancied that he looked quite pretty indeed, he could scarcely convince us that he was writing with a quill pen. And while we're on that subject, in one of the many gross inaccuracies perpetrated by the half-wit producers of this embarrassment, in the unnecessary shots of David writing his story he appears to be somewhere between 18 and 21 years old, when he should be in his forties. Perhaps the greatest transgression, although it's difficult to choose, was the invented showdown between David and Murdstone as he courted a third wife in Switzerland, preceded of course by the invented death of Murdstone's second wife. While they were at it it is a wonder they didn't send Heep to the guillotine, and have him deliver Sidney Carton's famous last words. It couldn't have made things much worse really. It might have been far far better.<br /><br />There are literally thousands of small and large sins against literature throughout this miscarriage of art, and anyone who watches it runs the risk of severe and permanent damage to all aspects of their sensibility.\""
      ]
     },
     "execution_count": 10,
     "metadata": {},
     "output_type": "execute_result"
    }
   ],
   "source": [
    "im_data_train.iloc[10]['text']"
   ]
  },
  {
   "cell_type": "code",
   "execution_count": 11,
   "metadata": {},
   "outputs": [],
   "source": [
    "ex_sign = 0\n",
    "narr_sign = 0\n",
    "ques_sign = 0\n",
    "for ind in range (len(im_data_train)):\n",
    "    ex_sign += im_data_train.iloc[ind]['text'].count('!')\n",
    "    narr_sign += im_data_train.iloc[ind]['text'].count('.')\n",
    "    ques_sign += im_data_train.iloc[ind]['text'].count('?')\n",
    "    "
   ]
  },
  {
   "cell_type": "code",
   "execution_count": 12,
   "metadata": {},
   "outputs": [
    {
     "data": {
      "text/plain": [
       "24560"
      ]
     },
     "execution_count": 12,
     "metadata": {},
     "output_type": "execute_result"
    }
   ],
   "source": [
    "ex_sign"
   ]
  },
  {
   "cell_type": "code",
   "execution_count": 13,
   "metadata": {},
   "outputs": [
    {
     "data": {
      "text/plain": [
       "327192"
      ]
     },
     "execution_count": 13,
     "metadata": {},
     "output_type": "execute_result"
    }
   ],
   "source": [
    "narr_sign"
   ]
  },
  {
   "cell_type": "code",
   "execution_count": 14,
   "metadata": {},
   "outputs": [
    {
     "data": {
      "text/plain": [
       "16088"
      ]
     },
     "execution_count": 14,
     "metadata": {},
     "output_type": "execute_result"
    }
   ],
   "source": [
    "ques_sign"
   ]
  },
  {
   "cell_type": "markdown",
   "metadata": {},
   "source": [
    "### Preprocessing"
   ]
  },
  {
   "cell_type": "code",
   "execution_count": 15,
   "metadata": {},
   "outputs": [],
   "source": [
    "def remove_stopwords(texts):\n",
    "    return [[word for word in doc if word not in stop_words] for doc in texts]"
   ]
  },
  {
   "cell_type": "code",
   "execution_count": 16,
   "metadata": {},
   "outputs": [],
   "source": [
    "def split_sentences(data_with_text):\n",
    "    all_sentences = []\n",
    "    for text in data_with_text:\n",
    "        splitted = nltk.tokenize.sent_tokenize(text)\n",
    "        all_sentences.append(splitted)\n",
    "        \n",
    "    flattened = [item for sub in all_sentences for item in sub]\n",
    "    return flattened"
   ]
  },
  {
   "cell_type": "code",
   "execution_count": 17,
   "metadata": {},
   "outputs": [],
   "source": [
    "train_data = split_sentences(im_data_train['text'])"
   ]
  },
  {
   "cell_type": "code",
   "execution_count": 18,
   "metadata": {},
   "outputs": [
    {
     "data": {
      "text/plain": [
       "[\"Now, I won't deny that when I purchased this off eBay, I had high expectations.\",\n",
       " 'This was an incredible out-of-print work from the master of comedy that I so enjoy.',\n",
       " 'However, I was soon to be disappointed.',\n",
       " 'Apologies to those who enjoyed it, but I just found the Compleat Al to be very difficult to watch.',\n",
       " \"I got a few smiles, sure, but the majority of the funny came from the music videos (which I've got on DVD) and the rest was basically filler.\"]"
      ]
     },
     "execution_count": 18,
     "metadata": {},
     "output_type": "execute_result"
    }
   ],
   "source": [
    "train_data[:5]"
   ]
  },
  {
   "cell_type": "code",
   "execution_count": 19,
   "metadata": {},
   "outputs": [],
   "source": [
    "def remove_symbols(data):\n",
    "    data = [re.sub('\\s+', ' ', sent) for sent in data]\n",
    "    data = [re.sub(\"\\'\", \"\", sent) for sent in data]\n",
    "    return data"
   ]
  },
  {
   "cell_type": "code",
   "execution_count": 20,
   "metadata": {},
   "outputs": [],
   "source": [
    "train_data = remove_symbols(train_data)"
   ]
  },
  {
   "cell_type": "code",
   "execution_count": 21,
   "metadata": {},
   "outputs": [],
   "source": [
    "def create_train_data(train_data):\n",
    "    text_col = []\n",
    "    sym_col = []\n",
    "    for elem in train_data:\n",
    "        text_col.append(elem[:-1])\n",
    "        sym_col.append(elem[-1])\n",
    "        \n",
    "    res = pd.DataFrame(columns=['Sentence','Symbol'])\n",
    "    res['Sentence'] = text_col\n",
    "    res['Symbol'] = sym_col\n",
    "    res = res.loc[(res['Symbol']=='.') | (res['Symbol']=='!') | (res['Symbol']=='?')]\n",
    "    return res"
   ]
  },
  {
   "cell_type": "code",
   "execution_count": 22,
   "metadata": {},
   "outputs": [],
   "source": [
    "train = create_train_data(train_data)"
   ]
  },
  {
   "cell_type": "code",
   "execution_count": 23,
   "metadata": {},
   "outputs": [],
   "source": [
    "train = train.reset_index(drop=True)"
   ]
  },
  {
   "cell_type": "code",
   "execution_count": 24,
   "metadata": {},
   "outputs": [],
   "source": [
    "to_remove = np.random.choice(train[train['Symbol']=='.'].index,size=200000,replace=False)"
   ]
  },
  {
   "cell_type": "code",
   "execution_count": 25,
   "metadata": {},
   "outputs": [],
   "source": [
    "train.drop(to_remove, inplace=True)"
   ]
  },
  {
   "cell_type": "code",
   "execution_count": 26,
   "metadata": {},
   "outputs": [
    {
     "data": {
      "text/plain": [
       ".    33486\n",
       "!    16040\n",
       "?    12010\n",
       "Name: Symbol, dtype: int64"
      ]
     },
     "execution_count": 26,
     "metadata": {},
     "output_type": "execute_result"
    }
   ],
   "source": [
    "train['Symbol'].value_counts()"
   ]
  },
  {
   "cell_type": "code",
   "execution_count": 27,
   "metadata": {},
   "outputs": [],
   "source": [
    "# tokenize\n",
    "def sent_to_words(sentences):\n",
    "    for sentence in sentences:\n",
    "        yield(gensim.utils.simple_preprocess(str(sentence), deacc=True))  # deacc=True removes punctuations\n",
    "\n",
    "data_words = remove_stopwords(list(sent_to_words(train['Sentence'])))"
   ]
  },
  {
   "cell_type": "code",
   "execution_count": 30,
   "metadata": {},
   "outputs": [],
   "source": [
    "#fitting vectorizer\n",
    "vectorizer = TfidfVectorizer(stop_words = 'english')\n",
    "vectorizer = vectorizer.fit(train['Sentence'])"
   ]
  },
  {
   "cell_type": "code",
   "execution_count": 31,
   "metadata": {},
   "outputs": [],
   "source": [
    "vectors = vectorizer.transform(train['Sentence'])"
   ]
  },
  {
   "cell_type": "code",
   "execution_count": 159,
   "metadata": {},
   "outputs": [
    {
     "data": {
      "text/plain": [
       "TruncatedSVD(n_components=300, n_iter=10, random_state=42)"
      ]
     },
     "execution_count": 159,
     "metadata": {},
     "output_type": "execute_result"
    }
   ],
   "source": [
    "svd = TruncatedSVD(n_components=300, n_iter=10, random_state=42)\n",
    "svd.fit(vectors)"
   ]
  },
  {
   "cell_type": "code",
   "execution_count": 160,
   "metadata": {},
   "outputs": [
    {
     "name": "stdout",
     "output_type": "stream",
     "text": [
      "0.27658012351176997\n"
     ]
    }
   ],
   "source": [
    "print(svd.explained_variance_ratio_.sum())"
   ]
  },
  {
   "cell_type": "code",
   "execution_count": 161,
   "metadata": {},
   "outputs": [],
   "source": [
    "vectors_svd = svd.transform(vectors)"
   ]
  },
  {
   "cell_type": "markdown",
   "metadata": {},
   "source": [
    "### Test preprocessing"
   ]
  },
  {
   "cell_type": "code",
   "execution_count": 162,
   "metadata": {},
   "outputs": [],
   "source": [
    "test_data = split_sentences(im_data_test['text'])\n",
    "test_data = remove_symbols(test_data)\n",
    "test = create_train_data(test_data)\n",
    "to_remove = np.random.choice(test[test['Symbol']=='.'].index,size=226000,replace=False)\n",
    "test.drop(to_remove, inplace=True)\n",
    "to_remove = np.random.choice(test[test['Symbol']=='?'].index,size=11000,replace=False)\n",
    "test.drop(to_remove, inplace=True)\n",
    "to_remove = np.random.choice(test[test['Symbol']=='!'].index,size=14000,replace=False)\n",
    "test.drop(to_remove, inplace=True)\n",
    "test_svd = vectorizer.transform(test['Sentence'])\n",
    "test_svd = svd.transform(test_svd)"
   ]
  },
  {
   "cell_type": "code",
   "execution_count": 36,
   "metadata": {},
   "outputs": [
    {
     "data": {
      "text/plain": [
       ".    2577\n",
       "!    1835\n",
       "?    1222\n",
       "Name: Symbol, dtype: int64"
      ]
     },
     "execution_count": 36,
     "metadata": {},
     "output_type": "execute_result"
    }
   ],
   "source": [
    "test['Symbol'].value_counts()"
   ]
  },
  {
   "cell_type": "markdown",
   "metadata": {},
   "source": [
    "### Fitting"
   ]
  },
  {
   "cell_type": "code",
   "execution_count": 163,
   "metadata": {},
   "outputs": [],
   "source": [
    "X_train = vectors_svd\n",
    "y_train = np.array(train['Symbol'])\n",
    "X_test = test_svd\n",
    "y_test = np.array(test['Symbol'])"
   ]
  },
  {
   "cell_type": "code",
   "execution_count": 204,
   "metadata": {},
   "outputs": [
    {
     "name": "stderr",
     "output_type": "stream",
     "text": [
      "/Library/Frameworks/Python.framework/Versions/3.6/lib/python3.6/site-packages/sklearn/linear_model/_logistic.py:764: ConvergenceWarning: lbfgs failed to converge (status=1):\n",
      "STOP: TOTAL NO. of ITERATIONS REACHED LIMIT.\n",
      "\n",
      "Increase the number of iterations (max_iter) or scale the data as shown in:\n",
      "    https://scikit-learn.org/stable/modules/preprocessing.html\n",
      "Please also refer to the documentation for alternative solver options:\n",
      "    https://scikit-learn.org/stable/modules/linear_model.html#logistic-regression\n",
      "  extra_warning_msg=_LOGISTIC_SOLVER_CONVERGENCE_MSG)\n"
     ]
    },
    {
     "data": {
      "text/plain": [
       "LogisticRegression()"
      ]
     },
     "execution_count": 204,
     "metadata": {},
     "output_type": "execute_result"
    }
   ],
   "source": [
    "#baseline\n",
    "clf = LogisticRegression()\n",
    "clf.fit(X_train, y_train)"
   ]
  },
  {
   "cell_type": "code",
   "execution_count": 205,
   "metadata": {},
   "outputs": [],
   "source": [
    "preds = clf.predict(X_test)"
   ]
  },
  {
   "cell_type": "code",
   "execution_count": 206,
   "metadata": {},
   "outputs": [
    {
     "name": "stdout",
     "output_type": "stream",
     "text": [
      "Accuracy =  0.5110046148384807\n",
      "Recall =  0.419853279461783\n",
      "Precision =  0.5787641204362021\n",
      "F1 =  0.3862380937354928\n"
     ]
    }
   ],
   "source": [
    "print('Accuracy = ', accuracy_score(y_test, preds))\n",
    "print('Recall = ', recall_score(y_test, preds, average='macro'))\n",
    "print('Precision = ', precision_score(y_test, preds, average='macro'))\n",
    "print('F1 = ', f1_score(y_test, preds, average='macro'))"
   ]
  },
  {
   "cell_type": "markdown",
   "metadata": {},
   "source": [
    "### CNN"
   ]
  },
  {
   "cell_type": "code",
   "execution_count": 164,
   "metadata": {},
   "outputs": [],
   "source": [
    "X_train_CNN = X_train.reshape(X_train.shape[0], X_train.shape[1], 1)\n",
    "X_test_CNN = X_test.reshape(X_test.shape[0], X_test.shape[1], 1)"
   ]
  },
  {
   "cell_type": "code",
   "execution_count": 165,
   "metadata": {},
   "outputs": [],
   "source": [
    "y_train_CNN = np.array(pd.get_dummies(y_train)).reshape(y_train.shape[0], 3)\n",
    "y_test_CNN = np.array(pd.get_dummies(y_test)).reshape(y_test.shape[0], 3)\n",
    "#y_train_CNN = keras.utils.to_categorical(y_train)"
   ]
  },
  {
   "cell_type": "code",
   "execution_count": 146,
   "metadata": {},
   "outputs": [
    {
     "data": {
      "text/plain": [
       "(61536, 500, 1)"
      ]
     },
     "execution_count": 146,
     "metadata": {},
     "output_type": "execute_result"
    }
   ],
   "source": [
    "X_train_CNN.shape"
   ]
  },
  {
   "cell_type": "code",
   "execution_count": 186,
   "metadata": {},
   "outputs": [],
   "source": [
    "opt = keras.optimizers.Adam(lr=0.001)"
   ]
  },
  {
   "cell_type": "code",
   "execution_count": 187,
   "metadata": {},
   "outputs": [],
   "source": [
    "model = Sequential()\n",
    "\n",
    "input_shape = ( X_train_CNN.shape[1], 1)\n",
    "\n",
    "model.add(keras.layers.Conv1D(32, 3, input_shape=input_shape))\n",
    "model.add(Activation('relu'))\n",
    "#model.add(keras.layers.Conv1D(128, 3))\n",
    "#model.add(Activation('relu'))\n",
    "model.add(keras.layers.Conv1D(16, 3))\n",
    "model.add(Activation('relu'))\n",
    "model.add(keras.layers.MaxPooling1D())\n",
    "model.add(Flatten())\n",
    "model.add(Dense(256, activation='relu'))\n",
    "model.add(Dropout(0.5))\n",
    "model.add(Dense(3, activation='sigmoid'))\n"
   ]
  },
  {
   "cell_type": "code",
   "execution_count": 188,
   "metadata": {},
   "outputs": [
    {
     "name": "stdout",
     "output_type": "stream",
     "text": [
      "_________________________________________________________________\n",
      "Layer (type)                 Output Shape              Param #   \n",
      "=================================================================\n",
      "conv1d_59 (Conv1D)           (None, 298, 32)           128       \n",
      "_________________________________________________________________\n",
      "activation_56 (Activation)   (None, 298, 32)           0         \n",
      "_________________________________________________________________\n",
      "conv1d_60 (Conv1D)           (None, 296, 16)           1552      \n",
      "_________________________________________________________________\n",
      "activation_57 (Activation)   (None, 296, 16)           0         \n",
      "_________________________________________________________________\n",
      "max_pooling1d_26 (MaxPooling (None, 148, 16)           0         \n",
      "_________________________________________________________________\n",
      "flatten_26 (Flatten)         (None, 2368)              0         \n",
      "_________________________________________________________________\n",
      "dense_51 (Dense)             (None, 256)               606464    \n",
      "_________________________________________________________________\n",
      "dropout_27 (Dropout)         (None, 256)               0         \n",
      "_________________________________________________________________\n",
      "dense_52 (Dense)             (None, 3)                 771       \n",
      "=================================================================\n",
      "Total params: 608,915\n",
      "Trainable params: 608,915\n",
      "Non-trainable params: 0\n",
      "_________________________________________________________________\n"
     ]
    }
   ],
   "source": [
    "model.summary()"
   ]
  },
  {
   "cell_type": "code",
   "execution_count": 189,
   "metadata": {},
   "outputs": [
    {
     "name": "stdout",
     "output_type": "stream",
     "text": [
      "Train on 61536 samples, validate on 5634 samples\n",
      "Epoch 1/40\n",
      "61536/61536 [==============================] - 18s 286us/step - loss: 1.0071 - acc: 0.5409 - val_loss: 1.0560 - val_acc: 0.4574\n",
      "Epoch 2/40\n",
      "61536/61536 [==============================] - 15s 241us/step - loss: 0.9776 - acc: 0.5446 - val_loss: 1.0192 - val_acc: 0.4631\n",
      "Epoch 3/40\n",
      "61536/61536 [==============================] - 17s 282us/step - loss: 0.9405 - acc: 0.5637 - val_loss: 0.9889 - val_acc: 0.4897\n",
      "Epoch 4/40\n",
      "61536/61536 [==============================] - 20s 325us/step - loss: 0.9187 - acc: 0.5805 - val_loss: 0.9893 - val_acc: 0.4979\n",
      "Epoch 5/40\n",
      "61536/61536 [==============================] - 20s 330us/step - loss: 0.9057 - acc: 0.5930 - val_loss: 0.9639 - val_acc: 0.5311\n",
      "Epoch 6/40\n",
      "61536/61536 [==============================] - 21s 338us/step - loss: 0.8970 - acc: 0.6011 - val_loss: 0.9552 - val_acc: 0.5334\n",
      "Epoch 7/40\n",
      "61536/61536 [==============================] - 19s 303us/step - loss: 0.8911 - acc: 0.6021 - val_loss: 0.9457 - val_acc: 0.5426\n",
      "Epoch 8/40\n",
      "61536/61536 [==============================] - 19s 301us/step - loss: 0.8852 - acc: 0.6062 - val_loss: 0.9562 - val_acc: 0.5353\n",
      "Epoch 9/40\n",
      "61536/61536 [==============================] - 16s 262us/step - loss: 0.8814 - acc: 0.6083 - val_loss: 0.9533 - val_acc: 0.5387\n",
      "Epoch 10/40\n",
      "61536/61536 [==============================] - 16s 261us/step - loss: 0.8788 - acc: 0.6101 - val_loss: 0.9509 - val_acc: 0.5399\n",
      "Epoch 11/40\n",
      "61536/61536 [==============================] - 16s 268us/step - loss: 0.8734 - acc: 0.6113 - val_loss: 0.9553 - val_acc: 0.5383\n",
      "Epoch 12/40\n",
      "61536/61536 [==============================] - 17s 279us/step - loss: 0.8709 - acc: 0.6134 - val_loss: 0.9376 - val_acc: 0.5465\n",
      "Epoch 13/40\n",
      "61536/61536 [==============================] - 16s 255us/step - loss: 0.8680 - acc: 0.6148 - val_loss: 0.9537 - val_acc: 0.5406\n",
      "Epoch 14/40\n",
      "61536/61536 [==============================] - 17s 282us/step - loss: 0.8658 - acc: 0.6159 - val_loss: 0.9470 - val_acc: 0.5449\n",
      "Epoch 15/40\n",
      "61536/61536 [==============================] - 17s 282us/step - loss: 0.8639 - acc: 0.6173 - val_loss: 0.9400 - val_acc: 0.5442\n",
      "Epoch 16/40\n",
      "61536/61536 [==============================] - 17s 270us/step - loss: 0.8591 - acc: 0.6185 - val_loss: 0.9423 - val_acc: 0.5460\n",
      "Epoch 17/40\n",
      "61536/61536 [==============================] - 15s 245us/step - loss: 0.8572 - acc: 0.6200 - val_loss: 0.9398 - val_acc: 0.5463\n",
      "Epoch 18/40\n",
      "61536/61536 [==============================] - 17s 269us/step - loss: 0.8544 - acc: 0.6229 - val_loss: 0.9373 - val_acc: 0.5522\n",
      "Epoch 19/40\n",
      "61536/61536 [==============================] - 16s 262us/step - loss: 0.8498 - acc: 0.6254 - val_loss: 0.9416 - val_acc: 0.5488\n",
      "Epoch 20/40\n",
      "61536/61536 [==============================] - 17s 272us/step - loss: 0.8470 - acc: 0.6248 - val_loss: 0.9544 - val_acc: 0.5453\n",
      "Epoch 21/40\n",
      "61536/61536 [==============================] - 17s 270us/step - loss: 0.8449 - acc: 0.6264 - val_loss: 0.9335 - val_acc: 0.5520\n",
      "Epoch 22/40\n",
      "61536/61536 [==============================] - 17s 273us/step - loss: 0.8421 - acc: 0.6288 - val_loss: 0.9624 - val_acc: 0.5394\n",
      "Epoch 23/40\n",
      "61536/61536 [==============================] - 16s 260us/step - loss: 0.8384 - acc: 0.6282 - val_loss: 0.9503 - val_acc: 0.5486\n",
      "Epoch 24/40\n",
      "61536/61536 [==============================] - 16s 262us/step - loss: 0.8367 - acc: 0.6306 - val_loss: 0.9399 - val_acc: 0.5509\n",
      "Epoch 25/40\n",
      "61536/61536 [==============================] - 16s 262us/step - loss: 0.8317 - acc: 0.6313 - val_loss: 0.9578 - val_acc: 0.5481\n",
      "Epoch 26/40\n",
      "61536/61536 [==============================] - 17s 281us/step - loss: 0.8285 - acc: 0.6345 - val_loss: 0.9479 - val_acc: 0.5493\n",
      "Epoch 27/40\n",
      "61536/61536 [==============================] - 18s 292us/step - loss: 0.8253 - acc: 0.6353 - val_loss: 0.9529 - val_acc: 0.5486\n",
      "Epoch 28/40\n",
      "61536/61536 [==============================] - 16s 264us/step - loss: 0.8212 - acc: 0.6370 - val_loss: 0.9477 - val_acc: 0.5485\n",
      "Epoch 29/40\n",
      "61536/61536 [==============================] - 15s 238us/step - loss: 0.8175 - acc: 0.6397 - val_loss: 0.9667 - val_acc: 0.5481\n",
      "Epoch 30/40\n",
      "61536/61536 [==============================] - 21s 333us/step - loss: 0.8132 - acc: 0.6422 - val_loss: 0.9586 - val_acc: 0.5481\n",
      "Epoch 31/40\n",
      "61536/61536 [==============================] - 21s 343us/step - loss: 0.8126 - acc: 0.6421 - val_loss: 0.9495 - val_acc: 0.5506\n",
      "Epoch 32/40\n",
      "61536/61536 [==============================] - 21s 344us/step - loss: 0.8070 - acc: 0.6442 - val_loss: 0.9533 - val_acc: 0.5490\n",
      "Epoch 33/40\n",
      "61536/61536 [==============================] - 21s 349us/step - loss: 0.8022 - acc: 0.6467 - val_loss: 0.9518 - val_acc: 0.5525\n",
      "Epoch 34/40\n",
      "61536/61536 [==============================] - 21s 348us/step - loss: 0.8000 - acc: 0.6471 - val_loss: 0.9547 - val_acc: 0.5483\n",
      "Epoch 35/40\n",
      "61536/61536 [==============================] - 20s 328us/step - loss: 0.7951 - acc: 0.6493 - val_loss: 0.9538 - val_acc: 0.5513\n",
      "Epoch 36/40\n",
      "61536/61536 [==============================] - 19s 314us/step - loss: 0.7903 - acc: 0.6534 - val_loss: 0.9599 - val_acc: 0.5490\n",
      "Epoch 37/40\n",
      "61536/61536 [==============================] - 20s 333us/step - loss: 0.7895 - acc: 0.6523 - val_loss: 0.9607 - val_acc: 0.5511\n",
      "Epoch 38/40\n",
      "61536/61536 [==============================] - 19s 307us/step - loss: 0.7853 - acc: 0.6547 - val_loss: 0.9617 - val_acc: 0.5502\n",
      "Epoch 39/40\n",
      "61536/61536 [==============================] - 21s 347us/step - loss: 0.7796 - acc: 0.6572 - val_loss: 0.9806 - val_acc: 0.5501\n",
      "Epoch 40/40\n",
      "61536/61536 [==============================] - 21s 337us/step - loss: 0.7771 - acc: 0.6590 - val_loss: 0.9665 - val_acc: 0.5515\n"
     ]
    }
   ],
   "source": [
    "sgd = keras.optimizers.SGD(lr=0.005, decay=1e-6, nesterov=True)\n",
    "model.compile(loss='categorical_crossentropy', optimizer=opt, metrics=['accuracy'])\n",
    "history_2 = model.fit(x=X_train_CNN,y=y_train_CNN, epochs=40, batch_size=1000, validation_data=(X_test_CNN, y_test_CNN), shuffle=True)"
   ]
  },
  {
   "cell_type": "code",
   "execution_count": 190,
   "metadata": {},
   "outputs": [],
   "source": [
    "model.save('./Intro_to_nn/CNN_300TrSVD')"
   ]
  },
  {
   "cell_type": "code",
   "execution_count": 191,
   "metadata": {},
   "outputs": [
    {
     "data": {
      "image/png": "[encoded data removed]",
      "text/plain": [
       "<Figure size 864x576 with 1 Axes>"
      ]
     },
     "metadata": {},
     "output_type": "display_data"
    }
   ],
   "source": [
    "plt.figure(figsize=(12,8))\n",
    "plt.plot(history_2.history['acc'])\n",
    "plt.plot(history_2.history['val_acc'])\n",
    "plt.title('model loss')\n",
    "plt.ylabel('loss')\n",
    "plt.xlabel('epoch')\n",
    "plt.legend(['train', 'test'], loc='upper left')\n",
    "plt.show()"
   ]
  },
  {
   "cell_type": "code",
   "execution_count": 192,
   "metadata": {},
   "outputs": [],
   "source": [
    "def predict_sample(sample):\n",
    "    test_data = nltk.tokenize.sent_tokenize(sample)\n",
    "    test_data = remove_symbols(test_data)\n",
    "    test_svd = vectorizer.transform(test_data)\n",
    "    test_svd = svd.transform(test_svd)\n",
    "    return test_svd"
   ]
  },
  {
   "cell_type": "code",
   "execution_count": 202,
   "metadata": {},
   "outputs": [],
   "source": [
    "sample = 'Damn that'\n",
    "for_pred = predict_sample(sample)\n",
    "inp = model.predict(for_pred.reshape(for_pred.shape[0], for_pred.shape[1], 1))"
   ]
  },
  {
   "cell_type": "code",
   "execution_count": 203,
   "metadata": {},
   "outputs": [
    {
     "data": {
      "text/plain": [
       "(1, 3)"
      ]
     },
     "execution_count": 203,
     "metadata": {},
     "output_type": "execute_result"
    }
   ],
   "source": [
    "inp.shape"
   ]
  },
  {
   "cell_type": "code",
   "execution_count": 196,
   "metadata": {},
   "outputs": [],
   "source": [
    "def labelling(target):\n",
    "    for_checking = []\n",
    "    for sample in target:\n",
    "        for_checking.append(np.argmax(sample))\n",
    "    return for_checking\n",
    "        "
   ]
  },
  {
   "cell_type": "code",
   "execution_count": 199,
   "metadata": {},
   "outputs": [],
   "source": [
    "pred = model.predict(X_test_CNN)"
   ]
  },
  {
   "cell_type": "code",
   "execution_count": 197,
   "metadata": {},
   "outputs": [],
   "source": [
    "test_check = labelling(y_test_CNN)"
   ]
  },
  {
   "cell_type": "code",
   "execution_count": 200,
   "metadata": {},
   "outputs": [],
   "source": [
    "pred_check = labelling(pred)"
   ]
  },
  {
   "cell_type": "code",
   "execution_count": 201,
   "metadata": {},
   "outputs": [
    {
     "name": "stdout",
     "output_type": "stream",
     "text": [
      "Accuracy =  0.5514731984380546\n",
      "Recall =  0.47796125635309306\n",
      "Precision =  0.5638672161668347\n",
      "F1 =  0.47616673060790937\n"
     ]
    }
   ],
   "source": [
    "print('Accuracy = ', accuracy_score(test_check, pred_check))\n",
    "print('Recall = ', recall_score(test_check, pred_check, average='macro'))\n",
    "print('Precision = ', precision_score(test_check, pred_check, average='macro'))\n",
    "print('F1 = ', f1_score(test_check, pred_check, average='macro'))"
   ]
  },
  {
   "cell_type": "code",
   "execution_count": null,
   "metadata": {},
   "outputs": [],
   "source": []
  },
  {
   "cell_type": "code",
   "execution_count": null,
   "metadata": {},
   "outputs": [],
   "source": []
  },
  {
   "cell_type": "code",
   "execution_count": null,
   "metadata": {},
   "outputs": [],
   "source": []
  },
  {
   "cell_type": "code",
   "execution_count": null,
   "metadata": {},
   "outputs": [],
   "source": []
  },
  {
   "cell_type": "code",
   "execution_count": null,
   "metadata": {},
   "outputs": [],
   "source": []
  }
 ],
 "metadata": {
  "kernelspec": {
   "display_name": "Python 3",
   "language": "python",
   "name": "python3"
  },
  "language_info": {
   "codemirror_mode": {
    "name": "ipython",
    "version": 3
   },
   "file_extension": ".py",
   "mimetype": "text/x-python",
   "name": "python",
   "nbconvert_exporter": "python",
   "pygments_lexer": "ipython3",
   "version": "3.6.4"
  }
 },
 "nbformat": 4,
 "nbformat_minor": 2
}
